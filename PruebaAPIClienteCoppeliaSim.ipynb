{
 "cells": [
  {
   "cell_type": "code",
   "execution_count": 1,
   "id": "5f22626d",
   "metadata": {},
   "outputs": [],
   "source": [
    "import numpy as np\n",
    "import cv2 as cv\n",
    "import matplotlib.pyplot as plt\n",
    "import os\n",
    "import sim\n",
    "import math"
   ]
  },
  {
   "cell_type": "code",
   "execution_count": 2,
   "id": "3f7aaa0d",
   "metadata": {
    "scrolled": true
   },
   "outputs": [
    {
     "name": "stdout",
     "output_type": "stream",
     "text": [
      "Conectado a 19999\n"
     ]
    }
   ],
   "source": [
    "def connect(port):\n",
    "    sim.simxFinish(-1) # just in case, close all opened connections\n",
    "    clientID=sim.simxStart('127.0.0.1',port,True,True,2000,5) # Conectarse\n",
    "    if clientID == 0: print(\"Conectado a\", port)\n",
    "    else: print(\"No se pudo conectar\")\n",
    "    return clientID\n",
    "clientID = connect(19999)"
   ]
  },
  {
   "cell_type": "code",
   "execution_count": 3,
   "id": "0d7c3103",
   "metadata": {},
   "outputs": [
    {
     "name": "stdout",
     "output_type": "stream",
     "text": [
      "Manejadores de articulaciones: [16, 19, 22, 24, 26, 28, 30]\n"
     ]
    }
   ],
   "source": [
    "# Variables\n",
    "DoF = 7\n",
    "cameras = []\n",
    "_, gripper = sim.simxGetObjectHandle(clientID, 'FrankaGripper', sim.simx_opmode_blocking) # robot\n",
    "_, ef = sim.simxGetObjectHandle(clientID, 'PuntoO', sim.simx_opmode_blocking) # robot\n",
    "_, tray = sim.simxGetObjectHandle(clientID, 'Esfera', sim.simx_opmode_blocking) # robot\n",
    "STEREO_CAMERA_NAME = \"Camara\" # Nombre del sensor de vision\n",
    "# Manejadores de objetos\n",
    "for i in range(1, 3):\n",
    "    _, cam = sim.simxGetObjectHandle(clientID, STEREO_CAMERA_NAME + str(i), sim.simx_opmode_blocking)\n",
    "    cameras.append(cam)\n",
    "stereo_matcher = cv.StereoBM_create(numDisparities=16, blockSize=15) # disparidad divisible para 16\n",
    "# Obtener los manejadores de las articulaciones\n",
    "jointHandlers = []\n",
    "name_base = '/Franka/joint'\n",
    "res, joinbase = sim.simxGetObjectHandle(clientID, name_base, sim.simx_opmode_blocking)\n",
    "for i in range(1, 7):\n",
    "    jointName = f'/Franka/link{i+1}'+'_resp/joint'\n",
    "    res, jointHandler = sim.simxGetObjectHandle(clientID, jointName, sim.simx_opmode_blocking)\n",
    "    if res == sim.simx_return_ok:\n",
    "        jointHandlers.append(jointHandler)\n",
    "\n",
    "    else:\n",
    "        print('No se pudo obtener el manejador de articulación', jointName)\n",
    "# Imprimir los manejadores de articulación\n",
    "jointHandlers.insert(0, joinbase)\n",
    "print('Manejadores de articulaciones:', jointHandlers)"
   ]
  },
  {
   "cell_type": "code",
   "execution_count": 4,
   "id": "583a778c",
   "metadata": {},
   "outputs": [],
   "source": [
    "def get_handle(name):\n",
    "    (check, handle) = sim.simxGetObjectHandle(clientID, name, sim.simx_opmode_blocking)\n",
    "    if check != 0:\n",
    "        print(\"No se encontro %s\" % name)\n",
    "    return handle"
   ]
  },
  {
   "cell_type": "code",
   "execution_count": 5,
   "id": "1cef49e4",
   "metadata": {},
   "outputs": [
    {
     "name": "stdout",
     "output_type": "stream",
     "text": [
      "(85, 85)\n",
      "uint8\n"
     ]
    },
    {
     "data": {
      "image/png": "[encoded data removed]",
      "text/plain": [
       "<Figure size 640x480 with 1 Axes>"
      ]
     },
     "metadata": {},
     "output_type": "display_data"
    },
    {
     "data": {
      "image/png": "[encoded data removed]",
      "text/plain": [
       "<Figure size 640x480 with 1 Axes>"
      ]
     },
     "metadata": {},
     "output_type": "display_data"
    }
   ],
   "source": [
    "x=85\n",
    "y =85\n",
    "w= 85\n",
    "h=85\n",
    "imgs = []\n",
    "for i in range(2):\n",
    "    _, res, img = sim.simxGetVisionSensorImage(clientID, cameras[i], False, sim.simx_opmode_blocking)\n",
    "    img = np.array(img).astype(np.uint8)\n",
    "    img = np.reshape(img, (res[0],res[1],3))\n",
    "    img = np.flip(img, axis=0)\n",
    "    imgs.append(img) # retornar esta imagen en la funcion\n",
    "    \n",
    "gray_img = cv.cvtColor(imgs[1], cv.COLOR_BGR2GRAY) # escala en gris\n",
    "ret,gray_img = cv.threshold(gray_img,127,255,cv.THRESH_BINARY_INV) # Establecer umbral\n",
    "rectified_img = cv.equalizeHist(gray_img) # Rectificar la imagen\n",
    "kernel = np.ones((5,5), np.uint8) \n",
    "dilated_img = cv.dilate(rectified_img, kernel, iterations=1) # Dilatar la imagen\n",
    "thinned_img = cv.ximgproc.thinning(dilated_img) # Adelgazar la imagen\n",
    "exp_img = np.expand_dims(thinned_img, axis=2) # expandir imagen\n",
    "\n",
    "# Mapa de profundidad\n",
    "\n",
    "\n",
    "left = cv.cvtColor(imgs[1], cv.COLOR_RGB2GRAY)\n",
    "right = cv.cvtColor(imgs[0], cv.COLOR_RGB2GRAY)\n",
    "depth_map = stereo_matcher.compute(left,right)   # Imagen de profundidad\n",
    "depth_map = depth_map[y:y + h, x:x + w]   # Usar una porcion de la imagen\n",
    "depth_map = np.array(depth_map).astype(np.uint8)   # Convertir tipo 16 a 8\n",
    "exp_depth = np.expand_dims(depth_map, axis=2) # Expandir imagen (W, H) -> (W, H, 1)\n",
    "\n",
    "\n",
    "\n",
    "print(depth_map.shape)\n",
    "print(depth_map.dtype)\n",
    "plt.imshow(depth_map)\n",
    "plt.show()\n",
    "plt.imshow(imgs[0])\n",
    "plt.show()"
   ]
  },
  {
   "cell_type": "code",
   "execution_count": 6,
   "id": "744108bf",
   "metadata": {},
   "outputs": [
    {
     "name": "stdout",
     "output_type": "stream",
     "text": [
      "Manejadores de articulaciones: [16, 19, 22, 24, 26, 28, 30]\n",
      "Los angulos son: [-0.00015854790399316698, 0.004214968532323837, 0.0, -1.5715577602386475, -0.00010224086872767657, 1.5707473754882812, -8.881784197001252e-16]\n"
     ]
    }
   ],
   "source": [
    "# Obtener angulos de las articulaciones\n",
    "print('Manejadores de articulaciones:', jointHandlers)\n",
    "def joint_angles():\n",
    "    angles = []\n",
    "    for i in range(DoF):\n",
    "        _, angle = sim.simxGetJointPosition(clientID, jointHandlers[i], sim.simx_opmode_blocking)\n",
    "        #angles.append(angle * 180 / math.pi) # de rad a grad\n",
    "        angles.append(angle)\n",
    "    return angles\n",
    "print('Los angulos son:', joint_angles())\n"
   ]
  },
  {
   "cell_type": "code",
   "execution_count": 5,
   "id": "5e26fd86",
   "metadata": {},
   "outputs": [
    {
     "name": "stdout",
     "output_type": "stream",
     "text": [
      "Distancia: 0.48 m\n"
     ]
    }
   ],
   "source": [
    "def distance_to_goal():\n",
    "    # Obtener las posiciones de los objetos de la punta y del objetivo\n",
    "    _, suelda_pos = sim.simxGetObjectPosition(clientID, ef, -1, sim.simx_opmode_blocking)\n",
    "    _, objetivo_pos = sim.simxGetObjectPosition(clientID, tray, -1, sim.simx_opmode_blocking)\n",
    "    # Calcular la distancia entre las posiciones del gripper y del objetivo\n",
    "    distancia = np.linalg.norm(np.array(suelda_pos) - np.array(objetivo_pos))\n",
    "    #print(f'Distancia: {self.distancia:.2f} m')\n",
    "    return distancia\n",
    "print(f'Distancia: {distance_to_goal():.2f} m')"
   ]
  },
  {
   "cell_type": "code",
   "execution_count": 12,
   "id": "71bb18e8",
   "metadata": {},
   "outputs": [
    {
     "name": "stdout",
     "output_type": "stream",
     "text": [
      "[ 1.32500005e+00  9.64147540e-10  2.50000898e-02 -1.92857215e-08\n",
      " -9.24111787e-10 -3.35686876e-19  1.00000000e+00]\n"
     ]
    }
   ],
   "source": [
    "def get_pose(handle):\n",
    "    \"\"\" return: An array containing the (X,Y,Z,Qx,Qy,Qz,Qw) pose of\n",
    "        the object.\n",
    "    \"\"\"\n",
    "    _, position = sim.simxGetObjectPosition(clientID, handle, -1, sim.simx_opmode_blocking)\n",
    "    _, quaternion = sim.simxGetObjectQuaternion(clientID, handle, -1, sim.simx_opmode_blocking)\n",
    "    return np.r_[position, quaternion]\n",
    "\n",
    "s = get_pose(marca)\n",
    "print(s)"
   ]
  },
  {
   "cell_type": "code",
   "execution_count": 12,
   "id": "c76e3287",
   "metadata": {},
   "outputs": [
    {
     "name": "stdout",
     "output_type": "stream",
     "text": [
      "El efector final y el objeto NO ESTAN colisionando\n"
     ]
    }
   ],
   "source": [
    "colision = sim.simxCheckCollision(clientID, ef, tray, sim.simx_opmode_blocking)\n",
    "if colision == True:\n",
    "    print(\"El efector final y el objeto ESTAN colisionando\")\n",
    "else:\n",
    "    print(\"El efector final y el objeto NO ESTAN colisionando\")"
   ]
  },
  {
   "cell_type": "code",
   "execution_count": 14,
   "id": "880cbba8",
   "metadata": {},
   "outputs": [
    {
     "name": "stdout",
     "output_type": "stream",
     "text": [
      "<function verificar at 0x0000024880448670>\n"
     ]
    }
   ],
   "source": [
    "def verificar():\n",
    "    success_reward = 0.\n",
    "    if distance_to_goal() < 0.01:\n",
    "        success_reward = 0.01\n",
    "        logging.info('--------Success state--------')\n",
    "    return success_reward\n",
    "print(verificar)"
   ]
  },
  {
   "cell_type": "code",
   "execution_count": 64,
   "id": "284a95a0",
   "metadata": {},
   "outputs": [
    {
     "name": "stdout",
     "output_type": "stream",
     "text": [
      "0.5305850218603569\n",
      "pos: [1.7793000936508179, 0.5137636661529541, 0.6279228329658508]\n",
      "new_pos: [1.7819530187601196, 0.5160179368421774, 0.6303076558418723]\n",
      "codigo 0\n"
     ]
    }
   ],
   "source": [
    "import random\n",
    "\n",
    "num1 = random.random()\n",
    "num2 = random.random()\n",
    "num3 = random.random()\n",
    "action=[num1, num2, num3]\n",
    "\n",
    "print(num1)\n",
    "def control(action):\n",
    "    _, pos = sim.simxGetObjectPosition(clientID, tray, -1, sim.simx_opmode_blocking) # revisar _,\n",
    "    print('pos:', pos)\n",
    "    # predicted action is in range (-1, 1) so we are normalizing it to physical units\n",
    "    new_pos = [pos[i] + (action[i]/200) for i in range(3)]\n",
    "    print('new_pos:',new_pos)\n",
    "    Code = sim.simxSetObjectPosition(clientID, tray, -1, new_pos, sim.simx_opmode_blocking)\n",
    "    return Code\n",
    "\n",
    "print('codigo', control(action)) # 0=ejeutado sin problema"
   ]
  },
  {
   "cell_type": "code",
   "execution_count": 7,
   "id": "d40ddd72",
   "metadata": {},
   "outputs": [
    {
     "ename": "NameError",
     "evalue": "name 'marca' is not defined",
     "output_type": "error",
     "traceback": [
      "\u001b[1;31m---------------------------------------------------------------------------\u001b[0m",
      "\u001b[1;31mNameError\u001b[0m                                 Traceback (most recent call last)",
      "Cell \u001b[1;32mIn[7], line 5\u001b[0m\n\u001b[0;32m      3\u001b[0m     _, ps \u001b[38;5;241m=\u001b[39m sim\u001b[38;5;241m.\u001b[39msimxGetObjectPosition(clientID, handle, \u001b[38;5;241m-\u001b[39m\u001b[38;5;241m1\u001b[39m, sim\u001b[38;5;241m.\u001b[39msimx_opmode_blocking)\n\u001b[0;32m      4\u001b[0m     \u001b[38;5;28;01mreturn\u001b[39;00m ps\n\u001b[1;32m----> 5\u001b[0m get_position(marca)\n",
      "\u001b[1;31mNameError\u001b[0m: name 'marca' is not defined"
     ]
    }
   ],
   "source": [
    "def get_position(handle):\n",
    "    _, pose = sim.simxGetObjectPosition(clientID, handle, -1, sim.simx_opmode_buffer)\n",
    "    _, ps = sim.simxGetObjectPosition(clientID, handle, -1, sim.simx_opmode_blocking)\n",
    "    return ps\n",
    "get_position(marca)"
   ]
  },
  {
   "cell_type": "code",
   "execution_count": 17,
   "id": "ba6ab1f2",
   "metadata": {},
   "outputs": [],
   "source": [
    "def set_pose(pose):\n",
    "    assert len(pose) == 7\n",
    "    e = sim.simxSetObjectPosition(clientID, punta_suelda, -1, pose[3:], sim.simx_opmode_blocking)\n",
    "    d = sim.simxSetObjectQuaternion(clientID, punta_suelda, -1, pose[:3], sim.simx_opmode_blocking)\n"
   ]
  },
  {
   "cell_type": "code",
   "execution_count": 18,
   "id": "a7886462",
   "metadata": {},
   "outputs": [
    {
     "name": "stdout",
     "output_type": "stream",
     "text": [
      "[ 1.32500005e+00  1.06861964e-09  2.50000898e-02 -2.13752980e-08\n",
      " -1.02196906e-09 -2.93428209e-19  1.00000000e+00]\n",
      "[1.3058802339462825, 0.09969623411440992, 0.025000089779496193, -2.13752979760784e-08, -1.0219690649293511e-09, -2.934282085339849e-19, 1.0]\n"
     ]
    }
   ],
   "source": [
    "goal_position = get_pose(marca)\n",
    "print(goal_position)\n",
    "target_pose = [goal_position[0] + (2 * np.random.rand() - 1.) * 0.1,\n",
    "               goal_position[1] + (2 * np.random.rand() - 1.) * 0.1,\n",
    "               goal_position[2]]\n",
    "target_pose = np.append(target_pose,\n",
    "                        goal_position[3:]).tolist()\n",
    "print(target_pose)"
   ]
  },
  {
   "cell_type": "code",
   "execution_count": 53,
   "id": "66c135f5",
   "metadata": {},
   "outputs": [],
   "source": [
    "\n",
    "def set_posicion_din(coords): # Establecer posicion (escena dinamica)\n",
    "    sim.simxPauseCommunication(clientID, 1)\n",
    "    for i in range(7):\n",
    "        sim.simxSetJointTargetPosition(clientID, jointHandlers[i], coords[i], sim.simx_opmode_oneshot)\n",
    "    sim.simxPauseCommunication(clientID, 0) \n",
    "coords = [0.0, 0.0, 0.0, -1.5, 0.0, 0.5, 0.0]    \n",
    "#coords = [0.0, 1, 0.0, -1.0, 0.0, 1.75, 0]\n",
    "set_posicion_din(coords)"
   ]
  },
  {
   "cell_type": "code",
   "execution_count": 9,
   "id": "a2148011",
   "metadata": {},
   "outputs": [
    {
     "name": "stdout",
     "output_type": "stream",
     "text": [
      "[0. 0. 0.]\n",
      "[0. 0. 0.]\n",
      "[0. 0. 0.]\n"
     ]
    }
   ],
   "source": [
    "def get_orientation(handle):\n",
    "    code, ornt = sim.simxGetObjectOrientation(clientID, handle, -1, sim.simx_opmode_oneshot)\n",
    "    s = np.array(ornt, dtype=np.float32)\n",
    "    return s\n",
    "#np.array([np.sin(ornt[0]),np.cos(ornt[0]),np.sin(ornt[1]),np.cos(ornt[1]),np.sin(ornt[2]),np.cos(ornt[2])])\n",
    "e=get_orientation(gripper)\n",
    "o=get_orientation(tray)\n",
    "print(e)\n",
    "print(o)\n",
    "print(e-o)"
   ]
  },
  {
   "cell_type": "code",
   "execution_count": 10,
   "id": "95b777ad",
   "metadata": {},
   "outputs": [
    {
     "name": "stdout",
     "output_type": "stream",
     "text": [
      "[ 1.05572927e+00  8.11143138e-04  5.84760129e-01 -1.58547903e-04\n",
      "  9.99999987e-01  4.21495605e-03  9.99991117e-01  0.00000000e+00\n",
      "  1.00000000e+00 -9.99999710e-01 -7.61433370e-04 -1.02240869e-04\n",
      "  9.99999995e-01  9.99999999e-01  4.89513066e-05 -8.88178420e-16\n",
      "  1.00000000e+00]\n"
     ]
    }
   ],
   "source": [
    "angulos = joint_angles()\n",
    "sin_cos = []\n",
    "pose=get_position(gripper)\n",
    "orientation = get_orientation(gripper)\n",
    "for a in angulos:\n",
    "    sin_cos.append(np.sin(a))\n",
    "    sin_cos.append(np.cos(a))\n",
    "s = np.concatenate([pose, sin_cos], axis=0)\n",
    "print(s)"
   ]
  },
  {
   "cell_type": "code",
   "execution_count": null,
   "id": "7d66643e",
   "metadata": {},
   "outputs": [],
   "source": []
  }
 ],
 "metadata": {
  "kernelspec": {
   "display_name": "Python 3 (ipykernel)",
   "language": "python",
   "name": "python3"
  },
  "language_info": {
   "codemirror_mode": {
    "name": "ipython",
    "version": 3
   },
   "file_extension": ".py",
   "mimetype": "text/x-python",
   "name": "python",
   "nbconvert_exporter": "python",
   "pygments_lexer": "ipython3",
   "version": "3.11.4"
  }
 },
 "nbformat": 4,
 "nbformat_minor": 5
}
