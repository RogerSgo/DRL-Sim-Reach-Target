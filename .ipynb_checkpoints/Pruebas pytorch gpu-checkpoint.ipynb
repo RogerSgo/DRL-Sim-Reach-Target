{
 "cells": [
  {
   "cell_type": "code",
   "execution_count": 1,
   "id": "e5e060e9",
   "metadata": {},
   "outputs": [],
   "source": [
    "import torch\n",
    "import numpy as np"
   ]
  },
  {
   "cell_type": "code",
   "execution_count": 2,
   "id": "42e096c6",
   "metadata": {},
   "outputs": [
    {
     "name": "stdout",
     "output_type": "stream",
     "text": [
      "False\n"
     ]
    }
   ],
   "source": [
    "# Create a tensor\n",
    "tensor = torch.randn(2, 3)\n",
    " \n",
    "# Check if tensor is on GPU\n",
    "is_on_gpu = tensor.is_cuda\n",
    "print(is_on_gpu)"
   ]
  },
  {
   "cell_type": "code",
   "execution_count": 3,
   "id": "67da2f44",
   "metadata": {},
   "outputs": [
    {
     "name": "stdout",
     "output_type": "stream",
     "text": [
      "True\n",
      "1\n",
      "0\n",
      "<torch.cuda.device object at 0x00000242C0AD18D0>\n",
      "NVIDIA GeForce RTX 3070 Laptop GPU\n",
      "8700\n",
      "11.8\n",
      "True\n"
     ]
    }
   ],
   "source": [
    "print(torch.cuda.is_available()) # verificar cuda\n",
    "print(torch.cuda.device_count()) # verificar dispositivos para cuda\n",
    "print(torch.cuda.current_device()) \n",
    "print(torch.cuda.device(0)) # direccion del disp\n",
    "print(torch.cuda.get_device_name(0)) # modelo de gpu\n",
    "print(torch.backends.cudnn.version()) # version cudnn\n",
    "print(torch.version.cuda) # version de cuda\n",
    "torch.backends.cudnn.is_available()\n",
    "print(torch.backends.cudnn.enabled)"
   ]
  },
  {
   "cell_type": "code",
   "execution_count": 4,
   "id": "b07a9aba",
   "metadata": {},
   "outputs": [
    {
     "name": "stdout",
     "output_type": "stream",
     "text": [
      "True\n"
     ]
    }
   ],
   "source": [
    "a = torch.randn(10, 20, 30) # se almacena en cpu\n",
    "a.ndim, a.shape, a.dtype\n",
    "data = a.to('cuda') # enviar a gpu\n",
    "data.device\n",
    "isd = data.is_cuda # verificar si esta en gpu cuda\n",
    "print(isd)\n",
    "\n",
    "cuda = torch.device('cuda')\n",
    "t = th.90.to(cuda)"
   ]
  },
  {
   "cell_type": "code",
   "execution_count": 5,
   "id": "81a224b4",
   "metadata": {},
   "outputs": [
    {
     "ename": "ModuleNotFoundError",
     "evalue": "No module named 'tensorflow'",
     "output_type": "error",
     "traceback": [
      "\u001b[1;31m---------------------------------------------------------------------------\u001b[0m",
      "\u001b[1;31mModuleNotFoundError\u001b[0m                       Traceback (most recent call last)",
      "Cell \u001b[1;32mIn[5], line 1\u001b[0m\n\u001b[1;32m----> 1\u001b[0m \u001b[38;5;28;01mimport\u001b[39;00m \u001b[38;5;21;01mtensorflow\u001b[39;00m\n\u001b[0;32m      2\u001b[0m \u001b[38;5;28;01mfrom\u001b[39;00m \u001b[38;5;21;01mtensorflow\u001b[39;00m\u001b[38;5;21;01m.\u001b[39;00m\u001b[38;5;21;01mpython\u001b[39;00m\u001b[38;5;21;01m.\u001b[39;00m\u001b[38;5;21;01mclient\u001b[39;00m \u001b[38;5;28;01mimport\u001b[39;00m device_lib\n\u001b[0;32m      3\u001b[0m \u001b[38;5;28;01mdef\u001b[39;00m \u001b[38;5;21mprint_info\u001b[39m():\n",
      "\u001b[1;31mModuleNotFoundError\u001b[0m: No module named 'tensorflow'"
     ]
    }
   ],
   "source": [
    "import tensorflow\n",
    "from tensorflow.python.client import device_lib\n",
    "def print_info():\n",
    "    print('  Versión de TensorFlow: {}'.format(tensorflow.__version__))\n",
    "    print('  GPU: {}'.format([x.physical_device_desc for x in device_lib.list_local_devices() if x.device_type == 'GPU']))\n",
    "    #print('  Versión Cuda  -> {}'.format(tensorflow.sysconfig.get_build_info()['cuda_version']))\n",
    "    #print('  Versión Cudnn -> {}\\n'.format(tensorflow.sysconfig.get_build_info()['cudnn_version']))\n",
    "print_info()\n",
    "gpus = tensorflow.config.experimental.list_physical_devices(device_type='GPU') # why this code can not detect GPU? TF Version: 2.12.0. A: \n",
    "cpus = tensorflow.config.experimental.list_physical_devices(device_type='CPU')\n",
    "print(gpus, cpus)"
   ]
  },
  {
   "cell_type": "code",
   "execution_count": null,
   "id": "0c0b5b0d",
   "metadata": {},
   "outputs": [],
   "source": []
  }
 ],
 "metadata": {
  "kernelspec": {
   "display_name": "Python 3 (ipykernel)",
   "language": "python",
   "name": "python3"
  },
  "language_info": {
   "codemirror_mode": {
    "name": "ipython",
    "version": 3
   },
   "file_extension": ".py",
   "mimetype": "text/x-python",
   "name": "python",
   "nbconvert_exporter": "python",
   "pygments_lexer": "ipython3",
   "version": "3.11.4"
  }
 },
 "nbformat": 4,
 "nbformat_minor": 5
}
